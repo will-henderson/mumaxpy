{
 "cells": [
  {
   "cell_type": "code",
   "execution_count": 1,
   "metadata": {},
   "outputs": [],
   "source": [
    "import mumaxpy\n",
    "import numpy as np\n",
    "import matplotlib.pyplot as plt"
   ]
  },
  {
   "cell_type": "code",
   "execution_count": 2,
   "metadata": {},
   "outputs": [],
   "source": [
    "def system_setup(mm):\n",
    "    nxy = 32\n",
    "    nz = 2\n",
    "    cellsize = 5e-9\n",
    "    mm.SetGridSize(nxy, nxy, nz)\n",
    "    mm.SetCellSize(cellsize, cellsize, cellsize)\n",
    "    mm.Msat = 8e5\n",
    "    mm.Aex = 1.3e-11\n",
    "    mm.alpha = .008"
   ]
  },
  {
   "cell_type": "code",
   "execution_count": 3,
   "metadata": {},
   "outputs": [
    {
     "name": "stdout",
     "output_type": "stream",
     "text": [
      "NVIDIA GeForce RTX 3060(12044MB), CUDA Driver 12.0, cc=8.6\n",
      "//output directory: /installing_stuff/mumaxpy/examples/mumax.out/\n"
     ]
    },
    {
     "name": "stderr",
     "output_type": "stream",
     "text": [
      "2024/02/05 00:34:22 //Using cached kernel: /tmp/mumax3kernel_[32 32 2]_[0 0 0]_[5e-09 5e-09 5e-09]_6_\n"
     ]
    },
    {
     "name": "stdout",
     "output_type": "stream",
     "text": [
      "//********************************************************************//\n",
      "//Please cite the following references, relevant for your simulation. //\n",
      "//See bibtex file in output folder for justification.                 //\n",
      "//********************************************************************//\n",
      "//   * Vansteenkiste et al., AIP Adv. 4, 107133 (2014).\n"
     ]
    }
   ],
   "source": [
    "with mumaxpy.Mumax() as mm:\n",
    "    system_setup(mm)\n",
    "    mm.B_ext = (.1, 0, 0)\n",
    "    mm.Relax()\n",
    "    ground_state = mm.SliceOf(mm.m)\n",
    "\n",
    "    \n"
   ]
  },
  {
   "cell_type": "code",
   "execution_count": 6,
   "metadata": {},
   "outputs": [],
   "source": [
    "f = 3e9 * (2 * np.pi)\n",
    "def excitation(t):\n",
    "    return 0.01*np.sin(f*t)"
   ]
  },
  {
   "cell_type": "code",
   "execution_count": 5,
   "metadata": {},
   "outputs": [
    {
     "name": "stdout",
     "output_type": "stream",
     "text": [
      "NVIDIA GeForce RTX 3060(12044MB), CUDA Driver 12.0, cc=8.6\n",
      "//output directory: /installing_stuff/mumaxpy/examples/mumax.out/\n",
      "//********************************************************************//\n",
      "//Please cite the following references, relevant for your simulation. //\n",
      "//See bibtex file in output folder for justification.                 //\n",
      "//********************************************************************//\n",
      "//   * Vansteenkiste et al., AIP Adv. 4, 107133 (2014).\n"
     ]
    }
   ],
   "source": [
    "with mumaxpy.Mumax() as mm:\n",
    "    system_setup(mm)\n",
    "    ground_state.attach(mm)\n",
    "    mm.m.SetArray(ground_state)\n",
    "    mm.B_ext = (.1, 0, excitation)\n",
    "    \n",
    "    for i in range(4000):\n",
    "        mm.Run(5e-12)\n",
    "        print(mm.t)\n"
   ]
  }
 ],
 "metadata": {
  "kernelspec": {
   "display_name": "Python 3",
   "language": "python",
   "name": "python3"
  },
  "language_info": {
   "codemirror_mode": {
    "name": "ipython",
    "version": 3
   },
   "file_extension": ".py",
   "mimetype": "text/x-python",
   "name": "python",
   "nbconvert_exporter": "python",
   "pygments_lexer": "ipython3",
   "version": "3.11.7"
  }
 },
 "nbformat": 4,
 "nbformat_minor": 2
}
